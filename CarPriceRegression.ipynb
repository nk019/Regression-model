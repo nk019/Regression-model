{
 "cells": [
  {
   "metadata": {},
   "cell_type": "markdown",
   "source": "# car price prediction ",
   "id": "8a77807f92f26ee"
  },
  {
   "metadata": {},
   "cell_type": "markdown",
   "source": [
    "## step 1\n",
    "import all necessary libraries\n",
    "<br>\n",
    "load the data set\n",
    "<br>\n",
    "check info\n",
    "<br>\n",
    "check dataset statistics\n"
   ],
   "id": "3f599948c3789773"
  },
  {
   "metadata": {
    "ExecuteTime": {
     "end_time": "2025-02-24T07:37:09.831641Z",
     "start_time": "2025-02-24T07:37:09.825245Z"
    }
   },
   "cell_type": "code",
   "source": [
    "import pandas as pd\n",
    "import numpy as np\n",
    "import matplotlib.pyplot as plt\n",
    "import seaborn as sns"
   ],
   "id": "fbc121e30a2defb3",
   "outputs": [],
   "execution_count": 1
  },
  {
   "metadata": {
    "ExecuteTime": {
     "end_time": "2025-02-24T14:37:45.019902Z",
     "start_time": "2025-02-24T14:37:44.974792Z"
    }
   },
   "cell_type": "code",
   "source": [
    "car_df = pd.read_csv('data/car_price_dataset.csv')\n",
    "car_df.head(5)"
   ],
   "id": "d00e5581331d2cbf",
   "outputs": [
    {
     "data": {
      "text/plain": [
       "        Brand   Model  Year  Engine_Size Fuel_Type    Transmission  Mileage  \\\n",
       "0         Kia     Rio  2020          4.2    Diesel          Manual   289944   \n",
       "1   Chevrolet  Malibu  2012          2.0    Hybrid       Automatic     5356   \n",
       "2    Mercedes     GLA  2020          4.2    Diesel       Automatic   231440   \n",
       "3        Audi      Q5  2023          2.0  Electric          Manual   160971   \n",
       "4  Volkswagen    Golf  2003          2.6    Hybrid  Semi-Automatic   286618   \n",
       "\n",
       "   Doors  Owner_Count  Price  \n",
       "0      3            5   8501  \n",
       "1      2            3  12092  \n",
       "2      4            2  11171  \n",
       "3      2            1  11780  \n",
       "4      3            3   2867  "
      ],
      "text/html": [
       "<div>\n",
       "<style scoped>\n",
       "    .dataframe tbody tr th:only-of-type {\n",
       "        vertical-align: middle;\n",
       "    }\n",
       "\n",
       "    .dataframe tbody tr th {\n",
       "        vertical-align: top;\n",
       "    }\n",
       "\n",
       "    .dataframe thead th {\n",
       "        text-align: right;\n",
       "    }\n",
       "</style>\n",
       "<table border=\"1\" class=\"dataframe\">\n",
       "  <thead>\n",
       "    <tr style=\"text-align: right;\">\n",
       "      <th></th>\n",
       "      <th>Brand</th>\n",
       "      <th>Model</th>\n",
       "      <th>Year</th>\n",
       "      <th>Engine_Size</th>\n",
       "      <th>Fuel_Type</th>\n",
       "      <th>Transmission</th>\n",
       "      <th>Mileage</th>\n",
       "      <th>Doors</th>\n",
       "      <th>Owner_Count</th>\n",
       "      <th>Price</th>\n",
       "    </tr>\n",
       "  </thead>\n",
       "  <tbody>\n",
       "    <tr>\n",
       "      <th>0</th>\n",
       "      <td>Kia</td>\n",
       "      <td>Rio</td>\n",
       "      <td>2020</td>\n",
       "      <td>4.2</td>\n",
       "      <td>Diesel</td>\n",
       "      <td>Manual</td>\n",
       "      <td>289944</td>\n",
       "      <td>3</td>\n",
       "      <td>5</td>\n",
       "      <td>8501</td>\n",
       "    </tr>\n",
       "    <tr>\n",
       "      <th>1</th>\n",
       "      <td>Chevrolet</td>\n",
       "      <td>Malibu</td>\n",
       "      <td>2012</td>\n",
       "      <td>2.0</td>\n",
       "      <td>Hybrid</td>\n",
       "      <td>Automatic</td>\n",
       "      <td>5356</td>\n",
       "      <td>2</td>\n",
       "      <td>3</td>\n",
       "      <td>12092</td>\n",
       "    </tr>\n",
       "    <tr>\n",
       "      <th>2</th>\n",
       "      <td>Mercedes</td>\n",
       "      <td>GLA</td>\n",
       "      <td>2020</td>\n",
       "      <td>4.2</td>\n",
       "      <td>Diesel</td>\n",
       "      <td>Automatic</td>\n",
       "      <td>231440</td>\n",
       "      <td>4</td>\n",
       "      <td>2</td>\n",
       "      <td>11171</td>\n",
       "    </tr>\n",
       "    <tr>\n",
       "      <th>3</th>\n",
       "      <td>Audi</td>\n",
       "      <td>Q5</td>\n",
       "      <td>2023</td>\n",
       "      <td>2.0</td>\n",
       "      <td>Electric</td>\n",
       "      <td>Manual</td>\n",
       "      <td>160971</td>\n",
       "      <td>2</td>\n",
       "      <td>1</td>\n",
       "      <td>11780</td>\n",
       "    </tr>\n",
       "    <tr>\n",
       "      <th>4</th>\n",
       "      <td>Volkswagen</td>\n",
       "      <td>Golf</td>\n",
       "      <td>2003</td>\n",
       "      <td>2.6</td>\n",
       "      <td>Hybrid</td>\n",
       "      <td>Semi-Automatic</td>\n",
       "      <td>286618</td>\n",
       "      <td>3</td>\n",
       "      <td>3</td>\n",
       "      <td>2867</td>\n",
       "    </tr>\n",
       "  </tbody>\n",
       "</table>\n",
       "</div>"
      ]
     },
     "execution_count": 33,
     "metadata": {},
     "output_type": "execute_result"
    }
   ],
   "execution_count": 33
  },
  {
   "metadata": {
    "ExecuteTime": {
     "end_time": "2025-02-24T11:45:04.630833Z",
     "start_time": "2025-02-24T11:45:04.533273Z"
    }
   },
   "cell_type": "code",
   "source": "car_df.info()",
   "id": "154e931fa36b8698",
   "outputs": [
    {
     "name": "stdout",
     "output_type": "stream",
     "text": [
      "<class 'pandas.core.frame.DataFrame'>\n",
      "RangeIndex: 10000 entries, 0 to 9999\n",
      "Data columns (total 10 columns):\n",
      " #   Column        Non-Null Count  Dtype  \n",
      "---  ------        --------------  -----  \n",
      " 0   Brand         10000 non-null  object \n",
      " 1   Model         10000 non-null  object \n",
      " 2   Year          10000 non-null  int64  \n",
      " 3   Engine_Size   10000 non-null  float64\n",
      " 4   Fuel_Type     10000 non-null  object \n",
      " 5   Transmission  10000 non-null  object \n",
      " 6   Mileage       10000 non-null  int64  \n",
      " 7   Doors         10000 non-null  int64  \n",
      " 8   Owner_Count   10000 non-null  int64  \n",
      " 9   Price         10000 non-null  int64  \n",
      "dtypes: float64(1), int64(5), object(4)\n",
      "memory usage: 781.4+ KB\n"
     ]
    }
   ],
   "execution_count": 10
  },
  {
   "metadata": {
    "ExecuteTime": {
     "end_time": "2025-02-24T11:58:54.991897Z",
     "start_time": "2025-02-24T11:58:54.949742Z"
    }
   },
   "cell_type": "code",
   "source": "car_df.describe()",
   "id": "2b8ff1e9eaf8ef65",
   "outputs": [
    {
     "data": {
      "text/plain": [
       "               Year   Engine_Size        Mileage         Doors   Owner_Count  \\\n",
       "count  10000.000000  10000.000000   10000.000000  10000.000000  10000.000000   \n",
       "mean    2011.543700      3.000560  149239.111800      3.497100      2.991100   \n",
       "std        6.897699      1.149324   86322.348957      1.110097      1.422682   \n",
       "min     2000.000000      1.000000      25.000000      2.000000      1.000000   \n",
       "25%     2006.000000      2.000000   74649.250000      3.000000      2.000000   \n",
       "50%     2012.000000      3.000000  149587.000000      3.000000      3.000000   \n",
       "75%     2017.000000      4.000000  223577.500000      4.000000      4.000000   \n",
       "max     2023.000000      5.000000  299947.000000      5.000000      5.000000   \n",
       "\n",
       "             Price  \n",
       "count  10000.00000  \n",
       "mean    8852.96440  \n",
       "std     3112.59681  \n",
       "min     2000.00000  \n",
       "25%     6646.00000  \n",
       "50%     8858.50000  \n",
       "75%    11086.50000  \n",
       "max    18301.00000  "
      ],
      "text/html": [
       "<div>\n",
       "<style scoped>\n",
       "    .dataframe tbody tr th:only-of-type {\n",
       "        vertical-align: middle;\n",
       "    }\n",
       "\n",
       "    .dataframe tbody tr th {\n",
       "        vertical-align: top;\n",
       "    }\n",
       "\n",
       "    .dataframe thead th {\n",
       "        text-align: right;\n",
       "    }\n",
       "</style>\n",
       "<table border=\"1\" class=\"dataframe\">\n",
       "  <thead>\n",
       "    <tr style=\"text-align: right;\">\n",
       "      <th></th>\n",
       "      <th>Year</th>\n",
       "      <th>Engine_Size</th>\n",
       "      <th>Mileage</th>\n",
       "      <th>Doors</th>\n",
       "      <th>Owner_Count</th>\n",
       "      <th>Price</th>\n",
       "    </tr>\n",
       "  </thead>\n",
       "  <tbody>\n",
       "    <tr>\n",
       "      <th>count</th>\n",
       "      <td>10000.000000</td>\n",
       "      <td>10000.000000</td>\n",
       "      <td>10000.000000</td>\n",
       "      <td>10000.000000</td>\n",
       "      <td>10000.000000</td>\n",
       "      <td>10000.00000</td>\n",
       "    </tr>\n",
       "    <tr>\n",
       "      <th>mean</th>\n",
       "      <td>2011.543700</td>\n",
       "      <td>3.000560</td>\n",
       "      <td>149239.111800</td>\n",
       "      <td>3.497100</td>\n",
       "      <td>2.991100</td>\n",
       "      <td>8852.96440</td>\n",
       "    </tr>\n",
       "    <tr>\n",
       "      <th>std</th>\n",
       "      <td>6.897699</td>\n",
       "      <td>1.149324</td>\n",
       "      <td>86322.348957</td>\n",
       "      <td>1.110097</td>\n",
       "      <td>1.422682</td>\n",
       "      <td>3112.59681</td>\n",
       "    </tr>\n",
       "    <tr>\n",
       "      <th>min</th>\n",
       "      <td>2000.000000</td>\n",
       "      <td>1.000000</td>\n",
       "      <td>25.000000</td>\n",
       "      <td>2.000000</td>\n",
       "      <td>1.000000</td>\n",
       "      <td>2000.00000</td>\n",
       "    </tr>\n",
       "    <tr>\n",
       "      <th>25%</th>\n",
       "      <td>2006.000000</td>\n",
       "      <td>2.000000</td>\n",
       "      <td>74649.250000</td>\n",
       "      <td>3.000000</td>\n",
       "      <td>2.000000</td>\n",
       "      <td>6646.00000</td>\n",
       "    </tr>\n",
       "    <tr>\n",
       "      <th>50%</th>\n",
       "      <td>2012.000000</td>\n",
       "      <td>3.000000</td>\n",
       "      <td>149587.000000</td>\n",
       "      <td>3.000000</td>\n",
       "      <td>3.000000</td>\n",
       "      <td>8858.50000</td>\n",
       "    </tr>\n",
       "    <tr>\n",
       "      <th>75%</th>\n",
       "      <td>2017.000000</td>\n",
       "      <td>4.000000</td>\n",
       "      <td>223577.500000</td>\n",
       "      <td>4.000000</td>\n",
       "      <td>4.000000</td>\n",
       "      <td>11086.50000</td>\n",
       "    </tr>\n",
       "    <tr>\n",
       "      <th>max</th>\n",
       "      <td>2023.000000</td>\n",
       "      <td>5.000000</td>\n",
       "      <td>299947.000000</td>\n",
       "      <td>5.000000</td>\n",
       "      <td>5.000000</td>\n",
       "      <td>18301.00000</td>\n",
       "    </tr>\n",
       "  </tbody>\n",
       "</table>\n",
       "</div>"
      ]
     },
     "execution_count": 12,
     "metadata": {},
     "output_type": "execute_result"
    }
   ],
   "execution_count": 12
  },
  {
   "metadata": {},
   "cell_type": "markdown",
   "source": "**NOW** we need to know how many unique values does each categorical columns contains **OR** how many unique values of non-numerical data we have in our dataset. so that we can figure out how to change these non-numerical values to numerical value ",
   "id": "746d9314d4cf7f4"
  },
  {
   "metadata": {
    "ExecuteTime": {
     "end_time": "2025-02-24T12:14:56.931597Z",
     "start_time": "2025-02-24T12:14:56.921787Z"
    }
   },
   "cell_type": "code",
   "source": [
    "categorical_columns = car_df.select_dtypes(include='object')\n",
    "categorical_columns.head(5) "
   ],
   "id": "be5c2f7623a261d2",
   "outputs": [
    {
     "data": {
      "text/plain": [
       "        Brand   Model Fuel_Type    Transmission\n",
       "0         Kia     Rio    Diesel          Manual\n",
       "1   Chevrolet  Malibu    Hybrid       Automatic\n",
       "2    Mercedes     GLA    Diesel       Automatic\n",
       "3        Audi      Q5  Electric          Manual\n",
       "4  Volkswagen    Golf    Hybrid  Semi-Automatic"
      ],
      "text/html": [
       "<div>\n",
       "<style scoped>\n",
       "    .dataframe tbody tr th:only-of-type {\n",
       "        vertical-align: middle;\n",
       "    }\n",
       "\n",
       "    .dataframe tbody tr th {\n",
       "        vertical-align: top;\n",
       "    }\n",
       "\n",
       "    .dataframe thead th {\n",
       "        text-align: right;\n",
       "    }\n",
       "</style>\n",
       "<table border=\"1\" class=\"dataframe\">\n",
       "  <thead>\n",
       "    <tr style=\"text-align: right;\">\n",
       "      <th></th>\n",
       "      <th>Brand</th>\n",
       "      <th>Model</th>\n",
       "      <th>Fuel_Type</th>\n",
       "      <th>Transmission</th>\n",
       "    </tr>\n",
       "  </thead>\n",
       "  <tbody>\n",
       "    <tr>\n",
       "      <th>0</th>\n",
       "      <td>Kia</td>\n",
       "      <td>Rio</td>\n",
       "      <td>Diesel</td>\n",
       "      <td>Manual</td>\n",
       "    </tr>\n",
       "    <tr>\n",
       "      <th>1</th>\n",
       "      <td>Chevrolet</td>\n",
       "      <td>Malibu</td>\n",
       "      <td>Hybrid</td>\n",
       "      <td>Automatic</td>\n",
       "    </tr>\n",
       "    <tr>\n",
       "      <th>2</th>\n",
       "      <td>Mercedes</td>\n",
       "      <td>GLA</td>\n",
       "      <td>Diesel</td>\n",
       "      <td>Automatic</td>\n",
       "    </tr>\n",
       "    <tr>\n",
       "      <th>3</th>\n",
       "      <td>Audi</td>\n",
       "      <td>Q5</td>\n",
       "      <td>Electric</td>\n",
       "      <td>Manual</td>\n",
       "    </tr>\n",
       "    <tr>\n",
       "      <th>4</th>\n",
       "      <td>Volkswagen</td>\n",
       "      <td>Golf</td>\n",
       "      <td>Hybrid</td>\n",
       "      <td>Semi-Automatic</td>\n",
       "    </tr>\n",
       "  </tbody>\n",
       "</table>\n",
       "</div>"
      ]
     },
     "execution_count": 14,
     "metadata": {},
     "output_type": "execute_result"
    }
   ],
   "execution_count": 14
  },
  {
   "metadata": {
    "ExecuteTime": {
     "end_time": "2025-02-24T12:19:35.334341Z",
     "start_time": "2025-02-24T12:19:35.313439Z"
    }
   },
   "cell_type": "code",
   "source": "unique_values = {col : categorical_columns[col].nunique() for col in categorical_columns}",
   "id": "db75a097fe6e3886",
   "outputs": [],
   "execution_count": 16
  },
  {
   "metadata": {
    "ExecuteTime": {
     "end_time": "2025-02-24T12:21:51.255324Z",
     "start_time": "2025-02-24T12:21:51.251070Z"
    }
   },
   "cell_type": "code",
   "source": [
    "for col, count in unique_values.items():\n",
    "    print (f'{col}: has {count} unique values')"
   ],
   "id": "c70cd3ce92321800",
   "outputs": [
    {
     "name": "stdout",
     "output_type": "stream",
     "text": [
      "Brand: has 10 unique values\n",
      "Model: has 30 unique values\n",
      "Fuel_Type: has 4 unique values\n",
      "Transmission: has 3 unique values\n"
     ]
    }
   ],
   "execution_count": 19
  },
  {
   "metadata": {},
   "cell_type": "markdown",
   "source": [
    "## outlier \n",
    "now we will use box plot for all inputs (here we need to make box plot for price and mileage only) "
   ],
   "id": "7810fa42562db53e"
  },
  {
   "metadata": {
    "ExecuteTime": {
     "end_time": "2025-02-24T12:35:41.829053Z",
     "start_time": "2025-02-24T12:35:41.739536Z"
    }
   },
   "cell_type": "code",
   "source": [
    "plt.figure(figsize=(12,6))\n",
    "plt.boxplot(car_df['Mileage'], vert=False)\n",
    "plt.title('Box Plot of Mileage')\n",
    "plt.xlabel('Mileage')\n",
    "plt.tight_layout()\n",
    "plt.show()"
   ],
   "id": "cff237941374e69e",
   "outputs": [
    {
     "data": {
      "text/plain": [
       "<Figure size 1200x600 with 1 Axes>"
      ],
      "image/png": "[encoded data removed]"
     },
     "metadata": {},
     "output_type": "display_data"
    }
   ],
   "execution_count": 22
  },
  {
   "metadata": {
    "ExecuteTime": {
     "end_time": "2025-02-24T12:37:00.576727Z",
     "start_time": "2025-02-24T12:37:00.483311Z"
    }
   },
   "cell_type": "code",
   "source": [
    "plt.figure(figsize=(12,6))\n",
    "plt.boxplot(car_df['Price'], vert=False)\n",
    "plt.title('Box Plot of Price')\n",
    "plt.xlabel('Price')\n",
    "plt.tight_layout()\n",
    "plt.show()"
   ],
   "id": "6dc667a7a472aaac",
   "outputs": [
    {
     "data": {
      "text/plain": [
       "<Figure size 1200x600 with 1 Axes>"
      ],
      "image/png": "[encoded data removed]"
     },
     "metadata": {},
     "output_type": "display_data"
    }
   ],
   "execution_count": 23
  },
  {
   "metadata": {
    "ExecuteTime": {
     "end_time": "2025-02-24T12:42:48.592875Z",
     "start_time": "2025-02-24T12:42:48.583190Z"
    }
   },
   "cell_type": "code",
   "source": [
    "Q1 = car_df[['Mileage', 'Price']].quantile(0.25)   #first quartile\n",
    "Q2 = car_df[['Mileage', 'Price']].quantile(0.75)   #third quartile\n",
    "IQR = Q2 - Q1   #interquartile range"
   ],
   "id": "a87c76da765c3cd9",
   "outputs": [],
   "execution_count": 25
  },
  {
   "metadata": {
    "ExecuteTime": {
     "end_time": "2025-02-24T12:52:37.818067Z",
     "start_time": "2025-02-24T12:52:37.812236Z"
    }
   },
   "cell_type": "code",
   "source": [
    "lower_bound = Q1 - 1.5 * IQR\n",
    "upper_bound = Q2 + 1.5 * IQR"
   ],
   "id": "8b819035db02a7aa",
   "outputs": [],
   "execution_count": 26
  },
  {
   "metadata": {
    "ExecuteTime": {
     "end_time": "2025-02-24T12:57:38.188619Z",
     "start_time": "2025-02-24T12:57:38.175874Z"
    }
   },
   "cell_type": "code",
   "source": [
    "outliers = ((car_df[['Mileage', 'Price']] < lower_bound) | (car_df[['Mileage', 'Price']] > upper_bound)).sum()\n",
    "outliers"
   ],
   "id": "917ffef9dd361ea0",
   "outputs": [
    {
     "data": {
      "text/plain": [
       "Mileage    0\n",
       "Price      6\n",
       "dtype: int64"
      ]
     },
     "execution_count": 30,
     "metadata": {},
     "output_type": "execute_result"
    }
   ],
   "execution_count": 30
  },
  {
   "metadata": {
    "ExecuteTime": {
     "end_time": "2025-02-24T13:03:51.352809Z",
     "start_time": "2025-02-24T13:03:51.345879Z"
    }
   },
   "cell_type": "code",
   "source": "cleanedCarDf = car_df[(car_df['Price'] >= lower_bound['Price']) & (car_df['Price'] <= upper_bound['Price'])]",
   "id": "1b3094dd9d2c4d73",
   "outputs": [],
   "execution_count": 31
  },
  {
   "metadata": {
    "ExecuteTime": {
     "end_time": "2025-02-24T13:04:08.253554Z",
     "start_time": "2025-02-24T13:04:08.247803Z"
    }
   },
   "cell_type": "code",
   "source": "cleanedCarDf.shape",
   "id": "c720841fa55cd486",
   "outputs": [
    {
     "data": {
      "text/plain": [
       "(9994, 10)"
      ]
     },
     "execution_count": 32,
     "metadata": {},
     "output_type": "execute_result"
    }
   ],
   "execution_count": 32
  },
  {
   "metadata": {},
   "cell_type": "code",
   "outputs": [],
   "execution_count": null,
   "source": "",
   "id": "6d05a5d102754aa5"
  }
 ],
 "metadata": {
  "kernelspec": {
   "display_name": "Python 3",
   "language": "python",
   "name": "python3"
  },
  "language_info": {
   "codemirror_mode": {
    "name": "ipython",
    "version": 2
   },
   "file_extension": ".py",
   "mimetype": "text/x-python",
   "name": "python",
   "nbconvert_exporter": "python",
   "pygments_lexer": "ipython2",
   "version": "2.7.6"
  }
 },
 "nbformat": 4,
 "nbformat_minor": 5
}
